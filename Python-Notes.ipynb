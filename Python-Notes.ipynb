{
 "cells": [
  {
   "cell_type": "markdown",
   "metadata": {},
   "source": [
    "## Object Oriented Programming\n",
    "An object has two characteristics - attributes and behaviour\n",
    "\n",
    "### Class\n",
    "A class is a blue print for the object.\n",
    "Instance is an object created from class"
   ]
  },
  {
   "cell_type": "code",
   "execution_count": 2,
   "metadata": {
    "ExecuteTime": {
     "end_time": "2021-02-05T12:08:14.072404Z",
     "start_time": "2021-02-05T12:08:14.070027Z"
    }
   },
   "outputs": [],
   "source": [
    "# syntax\n",
    "class Vehicle:\n",
    "    pass"
   ]
  },
  {
   "cell_type": "markdown",
   "metadata": {
    "ExecuteTime": {
     "end_time": "2021-02-05T12:08:31.212487Z",
     "start_time": "2021-02-05T12:08:31.209693Z"
    }
   },
   "source": [
    "### Object\n",
    "An object is an instantiation of a class. No memory or storage is allocated where object is defined."
   ]
  },
  {
   "cell_type": "markdown",
   "metadata": {},
   "source": [
    "### Methods\n",
    "Methods are functions defined inside the body of the class. Used to define the behaviour of the objects."
   ]
  },
  {
   "cell_type": "code",
   "execution_count": 15,
   "metadata": {
    "ExecuteTime": {
     "end_time": "2021-02-05T12:22:56.663354Z",
     "start_time": "2021-02-05T12:22:56.657819Z"
    }
   },
   "outputs": [
    {
     "name": "stdout",
     "output_type": "stream",
     "text": [
      "car\n",
      "car\n",
      "Truck BMW\n",
      "Speed is 200\n",
      "Vehicle brand is BMW\n"
     ]
    }
   ],
   "source": [
    "class Vehicle:\n",
    "    # class attribute\n",
    "    species = \"car\"\n",
    "    \n",
    "    # instance attribute\n",
    "    def __init__(self, name, brand):\n",
    "        self.name = name\n",
    "        self.brand = brand\n",
    "    \n",
    "    # class methods \n",
    "    def calculateSpeed(self, val = 100):\n",
    "        return f\"Speed is {val}\"\n",
    "    \n",
    "    def printModel(self):\n",
    "        return f\"Vehicle brand is {self.brand}\"\n",
    "        \n",
    "# initiate the class\n",
    "v1 = Vehicle(\"Truck\", \"BMW\")\n",
    "\n",
    "# access class attributes\n",
    "print(v1.species)\n",
    "print(v1.__class__.species)\n",
    "\n",
    "# access instance attributes\n",
    "print(v1.name, v1.brand)\n",
    "\n",
    "print(v1.calculateSpeed(200))\n",
    "print(v1.printModel())"
   ]
  },
  {
   "cell_type": "markdown",
   "metadata": {},
   "source": [
    "### Inheritance\n",
    "Creating new class using details of existing class. Newly created class is child/derived class and the main class is base/parent class"
   ]
  },
  {
   "cell_type": "code",
   "execution_count": 25,
   "metadata": {
    "ExecuteTime": {
     "end_time": "2021-02-05T12:49:13.528571Z",
     "start_time": "2021-02-05T12:49:13.524109Z"
    }
   },
   "outputs": [
    {
     "name": "stdout",
     "output_type": "stream",
     "text": [
      "Bird is ready\n",
      "Penguine is ready\n",
      "Penguine\n",
      "Swim faster - Bird\n",
      "Run Faster\n"
     ]
    }
   ],
   "source": [
    "# Parent Class\n",
    "class Bird:\n",
    "    \n",
    "    def __init__(self):\n",
    "        print(\"Bird is ready\")\n",
    "    \n",
    "    def whoIsThis(self):\n",
    "        print(\"Bird\")\n",
    "    \n",
    "    def swim(self):\n",
    "        print(\"Swim faster - Bird\")\n",
    "        \n",
    "# Child Class\n",
    "class Penguin(Bird):\n",
    "    def __init__(self):\n",
    "        # call super() function\n",
    "        super().__init__()\n",
    "        print(\"Penguine is ready\")\n",
    "    \n",
    "    def whoIsThis(self):\n",
    "        print(\"Penguine\")\n",
    "    \n",
    "    def run(self):\n",
    "        print(\"Run Faster\")\n",
    "        \n",
    "    #def swim(self):\n",
    "    #    super().swim()\n",
    "    #    print(\"Swim faster - Penguine\")\n",
    "              \n",
    "p = Penguin()\n",
    "p.whoIsThis()\n",
    "p.swim()\n",
    "p.run()"
   ]
  },
  {
   "cell_type": "markdown",
   "metadata": {},
   "source": [
    "### Encapsulation\n",
    "we can restrict the access to the methods and variables using _ or __"
   ]
  },
  {
   "cell_type": "code",
   "execution_count": 32,
   "metadata": {
    "ExecuteTime": {
     "end_time": "2021-02-05T13:05:06.758356Z",
     "start_time": "2021-02-05T13:05:06.753097Z"
    }
   },
   "outputs": [
    {
     "name": "stdout",
     "output_type": "stream",
     "text": [
      "Selling price 900\n",
      "Selling price 900\n",
      "30\n",
      "80\n",
      "Selling price 100\n"
     ]
    }
   ],
   "source": [
    "class Computer:\n",
    "    \n",
    "    def __init__(self):\n",
    "        self.__maxPrice = 900\n",
    "        self.demo = 30\n",
    "        \n",
    "    def sell(self):\n",
    "        print(f\"Selling price {self.__maxPrice}\")\n",
    "        \n",
    "    def setMaxPrice(self, price):\n",
    "        self.__maxPrice = price\n",
    "        \n",
    "c = Computer()\n",
    "c.sell()\n",
    "c.__maxPrice = 100\n",
    "c.sell()\n",
    "print(c.demo)\n",
    "c.demo = 80\n",
    "print(c.demo)\n",
    "\n",
    "#using setter function\n",
    "c.setMaxPrice(100)\n",
    "c.sell()"
   ]
  },
  {
   "cell_type": "markdown",
   "metadata": {},
   "source": [
    "### Polymorphism\n",
    "It means occuring in different forms or having many forms"
   ]
  },
  {
   "cell_type": "code",
   "execution_count": 34,
   "metadata": {
    "ExecuteTime": {
     "end_time": "2021-02-05T13:11:12.737814Z",
     "start_time": "2021-02-05T13:11:12.732486Z"
    }
   },
   "outputs": [
    {
     "name": "stdout",
     "output_type": "stream",
     "text": [
      "5\n",
      "Hello World\n",
      "5\n",
      "5\n",
      "2\n"
     ]
    }
   ],
   "source": [
    "# same + operator is used to add integers and concatenate strings\n",
    "print(3 + 2)\n",
    "print(\"Hello\"+ \" \" + \"World\")\n",
    "\n",
    "# len() function can be used to calculate length for different datatypes/ sequences\n",
    "print(len([1, 2, 3, 4, 5]))\n",
    "print(len(\"Hello\"))\n",
    "print(len({\"name\": \"Krushna\", \"age\": 25}))"
   ]
  },
  {
   "cell_type": "code",
   "execution_count": null,
   "metadata": {},
   "outputs": [],
   "source": []
  }
 ],
 "metadata": {
  "kernelspec": {
   "display_name": "Python 3",
   "language": "python",
   "name": "python3"
  },
  "language_info": {
   "codemirror_mode": {
    "name": "ipython",
    "version": 3
   },
   "file_extension": ".py",
   "mimetype": "text/x-python",
   "name": "python",
   "nbconvert_exporter": "python",
   "pygments_lexer": "ipython3",
   "version": "3.7.7"
  },
  "toc": {
   "base_numbering": 1,
   "nav_menu": {},
   "number_sections": true,
   "sideBar": true,
   "skip_h1_title": false,
   "title_cell": "Table of Contents",
   "title_sidebar": "Contents",
   "toc_cell": false,
   "toc_position": {},
   "toc_section_display": true,
   "toc_window_display": false
  },
  "varInspector": {
   "cols": {
    "lenName": 16,
    "lenType": 16,
    "lenVar": 40
   },
   "kernels_config": {
    "python": {
     "delete_cmd_postfix": "",
     "delete_cmd_prefix": "del ",
     "library": "var_list.py",
     "varRefreshCmd": "print(var_dic_list())"
    },
    "r": {
     "delete_cmd_postfix": ") ",
     "delete_cmd_prefix": "rm(",
     "library": "var_list.r",
     "varRefreshCmd": "cat(var_dic_list()) "
    }
   },
   "types_to_exclude": [
    "module",
    "function",
    "builtin_function_or_method",
    "instance",
    "_Feature"
   ],
   "window_display": false
  }
 },
 "nbformat": 4,
 "nbformat_minor": 4
}
