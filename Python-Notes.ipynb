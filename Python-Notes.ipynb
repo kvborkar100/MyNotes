{
 "cells": [
  {
   "cell_type": "markdown",
   "metadata": {},
   "source": [
    "## Object Oriented Programming\n",
    "An object has two characteristics - attributes and behaviour\n",
    "\n",
    "### Class\n",
    "A class is a blue print for the object.\n",
    "Instance is an object created from class"
   ]
  },
  {
   "cell_type": "code",
   "execution_count": 5,
   "metadata": {
    "ExecuteTime": {
     "end_time": "2021-02-21T07:20:23.537712Z",
     "start_time": "2021-02-21T07:20:23.533471Z"
    }
   },
   "outputs": [
    {
     "name": "stdout",
     "output_type": "stream",
     "text": [
      "Docstring for the class\n"
     ]
    }
   ],
   "source": [
    "# syntax\n",
    "class Vehicle:\n",
    "    '''Docstring for the class'''\n",
    "    pass\n",
    "print(Vehicle.__doc__)"
   ]
  },
  {
   "cell_type": "markdown",
   "metadata": {},
   "source": [
    "### Constructor\n",
    "  \n",
    "  __init__() is called whenever a new object is created for the class. It is normally used to initiate variables"
   ]
  },
  {
   "cell_type": "markdown",
   "metadata": {
    "ExecuteTime": {
     "end_time": "2021-02-05T12:08:31.212487Z",
     "start_time": "2021-02-05T12:08:31.209693Z"
    }
   },
   "source": [
    "### Object\n",
    "An object is an instance/instantiation of a class. No memory or storage is allocated where object is defined."
   ]
  },
  {
   "cell_type": "markdown",
   "metadata": {},
   "source": [
    "### Methods\n",
    "Methods are functions defined inside the body of the class. Used to define the behaviour of the objects."
   ]
  },
  {
   "cell_type": "code",
   "execution_count": 15,
   "metadata": {
    "ExecuteTime": {
     "end_time": "2021-02-05T12:22:56.663354Z",
     "start_time": "2021-02-05T12:22:56.657819Z"
    }
   },
   "outputs": [
    {
     "name": "stdout",
     "output_type": "stream",
     "text": [
      "car\n",
      "car\n",
      "Truck BMW\n",
      "Speed is 200\n",
      "Vehicle brand is BMW\n"
     ]
    }
   ],
   "source": [
    "class Vehicle:\n",
    "    # class attribute\n",
    "    species = \"car\"\n",
    "    \n",
    "    # instance attribute\n",
    "    def __init__(self, name, brand):\n",
    "        self.name = name\n",
    "        self.brand = brand\n",
    "    \n",
    "    # class methods \n",
    "    def calculateSpeed(self, val = 100):\n",
    "        return f\"Speed is {val}\"\n",
    "    \n",
    "    def printModel(self):\n",
    "        return f\"Vehicle brand is {self.brand}\"\n",
    "        \n",
    "# initiate the class\n",
    "v1 = Vehicle(\"Truck\", \"BMW\")\n",
    "\n",
    "# access class attributes\n",
    "print(v1.species)\n",
    "print(v1.__class__.species)\n",
    "\n",
    "# access instance attributes\n",
    "print(v1.name, v1.brand)\n",
    "\n",
    "print(v1.calculateSpeed(200))\n",
    "print(v1.printModel())"
   ]
  },
  {
   "cell_type": "markdown",
   "metadata": {},
   "source": [
    "### Inheritance\n",
    "Creating new class using details of existing class. Newly created class is child/derived class and the main class is base/parent class"
   ]
  },
  {
   "cell_type": "code",
   "execution_count": 8,
   "metadata": {
    "ExecuteTime": {
     "end_time": "2021-02-21T07:42:20.811941Z",
     "start_time": "2021-02-21T07:42:20.806462Z"
    }
   },
   "outputs": [
    {
     "name": "stdout",
     "output_type": "stream",
     "text": [
      "Bird is ready\n",
      "Bird is ready\n",
      "Penguine is ready\n",
      "Penguine\n",
      "Swim faster - Bird\n",
      "Run Faster\n"
     ]
    }
   ],
   "source": [
    "# Parent Class\n",
    "class Bird:\n",
    "    \n",
    "    def __init__(self):\n",
    "        print(\"Bird is ready\")\n",
    "    \n",
    "    def whoIsThis(self):\n",
    "        print(\"Bird\")\n",
    "    \n",
    "    def swim(self):\n",
    "        print(\"Swim faster - Bird\")\n",
    "        \n",
    "# Child Class\n",
    "class Penguin(Bird):\n",
    "    def __init__(self):\n",
    "        # call super() function\n",
    "        super().__init__()   # super is preferred over calling by class name\n",
    "        #Bird.__init__(self)    # same as above super keyword\n",
    "        print(\"Penguine is ready\")\n",
    "    \n",
    "    def whoIsThis(self):\n",
    "        print(\"Penguine\")\n",
    "    \n",
    "    def run(self):\n",
    "        print(\"Run Faster\")\n",
    "        \n",
    "    #def swim(self):\n",
    "    #    super().swim()\n",
    "    #    print(\"Swim faster - Penguine\")\n",
    "              \n",
    "p = Penguin()\n",
    "p.whoIsThis()\n",
    "p.swim()\n",
    "p.run()"
   ]
  },
  {
   "cell_type": "code",
   "execution_count": 12,
   "metadata": {
    "ExecuteTime": {
     "end_time": "2021-02-21T07:46:18.977871Z",
     "start_time": "2021-02-21T07:46:18.973585Z"
    }
   },
   "outputs": [
    {
     "name": "stdout",
     "output_type": "stream",
     "text": [
      "True\n",
      "True\n",
      "True\n",
      "False\n"
     ]
    }
   ],
   "source": [
    "print(isinstance(p, Penguin))\n",
    "print(isinstance(p, Bird))\n",
    "print(issubclass(Penguin, Bird))\n",
    "print(issubclass(Bird, Penguin))"
   ]
  },
  {
   "cell_type": "markdown",
   "metadata": {},
   "source": [
    "####  Multiple inheritance"
   ]
  },
  {
   "cell_type": "code",
   "execution_count": 26,
   "metadata": {
    "ExecuteTime": {
     "end_time": "2021-02-21T08:05:28.082345Z",
     "start_time": "2021-02-21T08:05:28.076286Z"
    }
   },
   "outputs": [
    {
     "name": "stdout",
     "output_type": "stream",
     "text": [
      "Base1 init\n",
      "MultiDerived init\n",
      "Hello MultiDerived\n"
     ]
    }
   ],
   "source": [
    "\n",
    "class Base1:\n",
    "    def __init__(self,a=0):\n",
    "        self.a = a\n",
    "        print(\"Base1 init\")\n",
    "    def test(self):\n",
    "        print(\"Hello Base1\")\n",
    "        \n",
    "class Base2:\n",
    "    def __init__(self,b=1):\n",
    "        self.b = b\n",
    "        print(\"Base2 init\")\n",
    "        \n",
    "    def test(self):\n",
    "        print(\"Hello Base2\")\n",
    "            \n",
    "class MultiDerived(Base1, Base2):\n",
    "    def __init__(self,c=2):\n",
    "        super().__init__()\n",
    "        print(\"MultiDerived init\")\n",
    "        \n",
    "    def test(self):\n",
    "        print(\"Hello MultiDerived\")\n",
    "\n",
    "        \n",
    "m = MultiDerived()\n",
    "m.test()"
   ]
  },
  {
   "cell_type": "code",
   "execution_count": 27,
   "metadata": {
    "ExecuteTime": {
     "end_time": "2021-02-21T08:07:08.350089Z",
     "start_time": "2021-02-21T08:07:08.343440Z"
    }
   },
   "outputs": [
    {
     "data": {
      "text/plain": [
       "(__main__.MultiDerived, __main__.Base1, __main__.Base2, object)"
      ]
     },
     "execution_count": 27,
     "metadata": {},
     "output_type": "execute_result"
    }
   ],
   "source": [
    "MultiDerived.__mro__  # MultiDerviced.mro()"
   ]
  },
  {
   "attachments": {
    "image.png": {
     "image/png": "[encoded data removed]"
    }
   },
   "cell_type": "markdown",
   "metadata": {},
   "source": [
    "Here the methods will be searched according to Method Resolution Order (MRO). First object method will be searched in MultiDerived -> Base1 -> Base2 i.e. From left to right.\n",
    "![image.png](attachment:image.png)\n"
   ]
  },
  {
   "cell_type": "code",
   "execution_count": 28,
   "metadata": {
    "ExecuteTime": {
     "end_time": "2021-02-21T08:09:28.165445Z",
     "start_time": "2021-02-21T08:09:28.161318Z"
    }
   },
   "outputs": [
    {
     "name": "stdout",
     "output_type": "stream",
     "text": [
      "[<class '__main__.M'>, <class '__main__.B'>, <class '__main__.A'>, <class '__main__.X'>, <class '__main__.Y'>, <class '__main__.Z'>, <class 'object'>]\n"
     ]
    }
   ],
   "source": [
    "# Demonstration of MRO\n",
    "\n",
    "class X:\n",
    "    pass\n",
    "\n",
    "\n",
    "class Y:\n",
    "    pass\n",
    "\n",
    "\n",
    "class Z:\n",
    "    pass\n",
    "\n",
    "\n",
    "class A(X, Y):\n",
    "    pass\n",
    "\n",
    "\n",
    "class B(Y, Z):\n",
    "    pass\n",
    "\n",
    "\n",
    "class M(B, A, Z):\n",
    "    pass\n",
    "\n",
    "# Output:\n",
    "# [<class '__main__.M'>, <class '__main__.B'>,\n",
    "#  <class '__main__.A'>, <class '__main__.X'>,\n",
    "#  <class '__main__.Y'>, <class '__main__.Z'>,\n",
    "#  <class 'object'>]\n",
    "\n",
    "print(M.mro())"
   ]
  },
  {
   "attachments": {
    "image.png": {
     "image/png": "[encoded data removed]"
    }
   },
   "cell_type": "markdown",
   "metadata": {},
   "source": [
    "#### Multilevel Inheritance\n",
    "![image.png](attachment:image.png)"
   ]
  },
  {
   "cell_type": "code",
   "execution_count": 42,
   "metadata": {
    "ExecuteTime": {
     "end_time": "2021-02-21T08:21:40.710580Z",
     "start_time": "2021-02-21T08:21:40.704316Z"
    }
   },
   "outputs": [
    {
     "name": "stdout",
     "output_type": "stream",
     "text": [
      "Middle init\n",
      "Last init\n"
     ]
    },
    {
     "data": {
      "text/plain": [
       "(__main__.Last, __main__.Middle, __main__.Base1, object)"
      ]
     },
     "execution_count": 42,
     "metadata": {},
     "output_type": "execute_result"
    }
   ],
   "source": [
    "class Base1:\n",
    "    def __init__(self):\n",
    "        print(\"Base1 init\")\n",
    "        \n",
    "        def test(self):\n",
    "            print(\"Base1\")\n",
    "        \n",
    "class Middle(Base1):\n",
    "    def __init__(self):\n",
    "        print(\"Middle init\")\n",
    "    #def test(self):\n",
    "    #    print(\"Middle\")\n",
    "        \n",
    "class Last(Middle):\n",
    "    def __init__(self):\n",
    "        super().__init__()\n",
    "        print(\"Last init\")\n",
    "\n",
    "o = Last()\n",
    "Last.__mro__"
   ]
  },
  {
   "cell_type": "markdown",
   "metadata": {},
   "source": [
    "### Encapsulation\n",
    "we can restrict the access to the methods and variables using _ or __"
   ]
  },
  {
   "cell_type": "code",
   "execution_count": 32,
   "metadata": {
    "ExecuteTime": {
     "end_time": "2021-02-05T13:05:06.758356Z",
     "start_time": "2021-02-05T13:05:06.753097Z"
    }
   },
   "outputs": [
    {
     "name": "stdout",
     "output_type": "stream",
     "text": [
      "Selling price 900\n",
      "Selling price 900\n",
      "30\n",
      "80\n",
      "Selling price 100\n"
     ]
    }
   ],
   "source": [
    "class Computer:\n",
    "    \n",
    "    def __init__(self):\n",
    "        self.__maxPrice = 900\n",
    "        self.demo = 30\n",
    "        \n",
    "    def sell(self):\n",
    "        print(f\"Selling price {self.__maxPrice}\")\n",
    "        \n",
    "    def setMaxPrice(self, price):\n",
    "        self.__maxPrice = price\n",
    "        \n",
    "c = Computer()\n",
    "c.sell()\n",
    "c.__maxPrice = 100\n",
    "c.sell()\n",
    "print(c.demo)\n",
    "c.demo = 80\n",
    "print(c.demo)\n",
    "\n",
    "#using setter function\n",
    "c.setMaxPrice(100)\n",
    "c.sell()"
   ]
  },
  {
   "cell_type": "markdown",
   "metadata": {},
   "source": [
    "### Polymorphism\n",
    "It means occuring in different forms or having many forms"
   ]
  },
  {
   "cell_type": "code",
   "execution_count": 34,
   "metadata": {
    "ExecuteTime": {
     "end_time": "2021-02-05T13:11:12.737814Z",
     "start_time": "2021-02-05T13:11:12.732486Z"
    }
   },
   "outputs": [
    {
     "name": "stdout",
     "output_type": "stream",
     "text": [
      "5\n",
      "Hello World\n",
      "5\n",
      "5\n",
      "2\n"
     ]
    }
   ],
   "source": [
    "# same + operator is used to add integers and concatenate strings\n",
    "print(3 + 2)\n",
    "print(\"Hello\"+ \" \" + \"World\")\n",
    "\n",
    "# len() function can be used to calculate length for different datatypes/ sequences\n",
    "print(len([1, 2, 3, 4, 5]))\n",
    "print(len(\"Hello\"))\n",
    "print(len({\"name\": \"Krushna\", \"age\": 25}))"
   ]
  },
  {
   "cell_type": "code",
   "execution_count": 3,
   "metadata": {
    "ExecuteTime": {
     "end_time": "2021-02-21T07:16:48.208326Z",
     "start_time": "2021-02-21T07:16:48.202804Z"
    }
   },
   "outputs": [
    {
     "name": "stdout",
     "output_type": "stream",
     "text": [
      "Parrot can fly\n",
      "Penguin can't fly\n",
      "Parrot can fly\n",
      "Penguin can't fly\n"
     ]
    }
   ],
   "source": [
    "class Parrot:\n",
    "\n",
    "    def fly(self):\n",
    "        print(\"Parrot can fly\")\n",
    "    \n",
    "    def swim(self):\n",
    "        print(\"Parrot can't swim\")\n",
    "\n",
    "class Penguin:\n",
    "\n",
    "    def fly(self):\n",
    "        print(\"Penguin can't fly\")\n",
    "    \n",
    "    def swim(self):\n",
    "        print(\"Penguin can swim\")\n",
    "\n",
    "# common interface\n",
    "def flying_test(bird):\n",
    "    bird.fly()\n",
    "\n",
    "#instantiate objects\n",
    "blu = Parrot()\n",
    "peggy = Penguin()\n",
    "\n",
    "# passing the object\n",
    "flying_test(blu)\n",
    "flying_test(peggy)"
   ]
  },
  {
   "cell_type": "markdown",
   "metadata": {},
   "source": [
    "Here the common interface flying_test is responsible for performing polymorphism"
   ]
  },
  {
   "cell_type": "markdown",
   "metadata": {},
   "source": [
    "### Operator Overloading\n",
    "Like + operator"
   ]
  },
  {
   "cell_type": "code",
   "execution_count": 18,
   "metadata": {
    "ExecuteTime": {
     "end_time": "2021-02-21T14:51:15.414904Z",
     "start_time": "2021-02-21T14:51:15.403468Z"
    }
   },
   "outputs": [
    {
     "name": "stdout",
     "output_type": "stream",
     "text": [
      "<__main__.Point object at 0x7f39c5944e10>\n"
     ]
    },
    {
     "ename": "TypeError",
     "evalue": "unsupported operand type(s) for +: 'Point' and 'Point'",
     "output_type": "error",
     "traceback": [
      "\u001b[0;31m---------------------------------------------------------------------------\u001b[0m",
      "\u001b[0;31mTypeError\u001b[0m                                 Traceback (most recent call last)",
      "\u001b[0;32m<ipython-input-18-c881ddab2c7a>\u001b[0m in \u001b[0;36m<module>\u001b[0;34m\u001b[0m\n\u001b[1;32m      7\u001b[0m \u001b[0mp2\u001b[0m \u001b[0;34m=\u001b[0m \u001b[0mPoint\u001b[0m\u001b[0;34m(\u001b[0m\u001b[0;36m1\u001b[0m\u001b[0;34m,\u001b[0m \u001b[0;36m2\u001b[0m\u001b[0;34m)\u001b[0m\u001b[0;34m\u001b[0m\u001b[0;34m\u001b[0m\u001b[0m\n\u001b[1;32m      8\u001b[0m \u001b[0mprint\u001b[0m\u001b[0;34m(\u001b[0m\u001b[0mp\u001b[0m\u001b[0;34m)\u001b[0m\u001b[0;34m\u001b[0m\u001b[0;34m\u001b[0m\u001b[0m\n\u001b[0;32m----> 9\u001b[0;31m \u001b[0mprint\u001b[0m\u001b[0;34m(\u001b[0m\u001b[0mp\u001b[0m\u001b[0;34m+\u001b[0m\u001b[0mp2\u001b[0m\u001b[0;34m)\u001b[0m\u001b[0;34m\u001b[0m\u001b[0;34m\u001b[0m\u001b[0m\n\u001b[0m",
      "\u001b[0;31mTypeError\u001b[0m: unsupported operand type(s) for +: 'Point' and 'Point'"
     ]
    }
   ],
   "source": [
    "class Point:\n",
    "    def __init__(self,x,y):\n",
    "        self.x = x\n",
    "        self.y = y\n",
    "    \n",
    "p = Point(1,2)\n",
    "p2 = Point(1, 2)\n",
    "print(p)\n",
    "print(p+p2)"
   ]
  },
  {
   "cell_type": "code",
   "execution_count": 19,
   "metadata": {
    "ExecuteTime": {
     "end_time": "2021-02-21T14:52:48.247750Z",
     "start_time": "2021-02-21T14:52:48.242670Z"
    }
   },
   "outputs": [
    {
     "name": "stdout",
     "output_type": "stream",
     "text": [
      "coordinates - 1, 2\n",
      "coordinates - 1, 2\n",
      "coordinates - 1, 2\n",
      "coordinates - 1, 2\n",
      "(2, 4)\n"
     ]
    }
   ],
   "source": [
    "class Point:\n",
    "    def __init__(self,x,y):\n",
    "        self.x = x\n",
    "        self.y = y\n",
    "        \n",
    "    def __str__(self):\n",
    "        return f\"coordinates - {self.x}, {self.y}\"\n",
    "    \n",
    "    def __add__(self,other):\n",
    "        x = self.x + other.x\n",
    "        y = self.y + other.y\n",
    "        return (x,y)\n",
    "\n",
    "p = Point(1,2)\n",
    "p2 = Point(1,2)\n",
    "# internally it calls p.__str__()\n",
    "print(p)   \n",
    "print(str(p))\n",
    "print(format(p)) \n",
    "print(p.__str__())\n",
    "\n",
    "# addition overloading\n",
    "print(p + p2) # p.__add__(p2) -> Point.__add__(p,p2)"
   ]
  },
  {
   "cell_type": "markdown",
   "metadata": {},
   "source": [
    "## Iterators"
   ]
  },
  {
   "cell_type": "markdown",
   "metadata": {},
   "source": [
    "Iterators are objects that can be iterated upon. Python iterator objects are implemented using __iter__ and __next__"
   ]
  },
  {
   "cell_type": "code",
   "execution_count": 5,
   "metadata": {
    "ExecuteTime": {
     "end_time": "2021-03-02T16:55:47.711450Z",
     "start_time": "2021-03-02T16:55:47.708364Z"
    }
   },
   "outputs": [
    {
     "name": "stdout",
     "output_type": "stream",
     "text": [
      "1\n",
      "2\n",
      "3\n"
     ]
    }
   ],
   "source": [
    "my_list = [1, 2, 3, 4, 5]  # called as iterable\n",
    "\n",
    "#getting iterator object\n",
    "my_iter = iter(my_list)\n",
    "\n",
    "print(next(my_iter))\n",
    "print(next(my_iter))\n",
    "print(my_iter.__next__())"
   ]
  },
  {
   "cell_type": "code",
   "execution_count": 6,
   "metadata": {
    "ExecuteTime": {
     "end_time": "2021-03-02T16:57:24.541578Z",
     "start_time": "2021-03-02T16:57:24.538654Z"
    }
   },
   "outputs": [
    {
     "name": "stdout",
     "output_type": "stream",
     "text": [
      "1\n",
      "2\n",
      "3\n",
      "4\n",
      "5\n"
     ]
    }
   ],
   "source": [
    "#the best way to work with iterator is for loop\n",
    "for i in my_list:\n",
    "    print(i)"
   ]
  },
  {
   "cell_type": "code",
   "execution_count": 11,
   "metadata": {
    "ExecuteTime": {
     "end_time": "2021-03-02T17:01:24.319829Z",
     "start_time": "2021-03-02T17:01:24.300368Z"
    }
   },
   "outputs": [
    {
     "name": "stdout",
     "output_type": "stream",
     "text": [
      "1\n",
      "2\n",
      "4\n",
      "8\n"
     ]
    },
    {
     "ename": "StopIteration",
     "evalue": "",
     "output_type": "error",
     "traceback": [
      "\u001b[0;31m---------------------------------------------------------------------------\u001b[0m",
      "\u001b[0;31mStopIteration\u001b[0m                             Traceback (most recent call last)",
      "\u001b[0;32m<ipython-input-11-e79078ee3bcd>\u001b[0m in \u001b[0;36m<module>\u001b[0;34m\u001b[0m\n\u001b[1;32m     30\u001b[0m \u001b[0mprint\u001b[0m\u001b[0;34m(\u001b[0m\u001b[0mnext\u001b[0m\u001b[0;34m(\u001b[0m\u001b[0mi\u001b[0m\u001b[0;34m)\u001b[0m\u001b[0;34m)\u001b[0m\u001b[0;34m\u001b[0m\u001b[0;34m\u001b[0m\u001b[0m\n\u001b[1;32m     31\u001b[0m \u001b[0mprint\u001b[0m\u001b[0;34m(\u001b[0m\u001b[0mnext\u001b[0m\u001b[0;34m(\u001b[0m\u001b[0mi\u001b[0m\u001b[0;34m)\u001b[0m\u001b[0;34m)\u001b[0m\u001b[0;34m\u001b[0m\u001b[0;34m\u001b[0m\u001b[0m\n\u001b[0;32m---> 32\u001b[0;31m \u001b[0mprint\u001b[0m\u001b[0;34m(\u001b[0m\u001b[0mnext\u001b[0m\u001b[0;34m(\u001b[0m\u001b[0mi\u001b[0m\u001b[0;34m)\u001b[0m\u001b[0;34m)\u001b[0m\u001b[0;34m\u001b[0m\u001b[0;34m\u001b[0m\u001b[0m\n\u001b[0m",
      "\u001b[0;32m<ipython-input-11-e79078ee3bcd>\u001b[0m in \u001b[0;36m__next__\u001b[0;34m(self)\u001b[0m\n\u001b[1;32m     16\u001b[0m             \u001b[0;32mreturn\u001b[0m \u001b[0mresult\u001b[0m\u001b[0;34m\u001b[0m\u001b[0;34m\u001b[0m\u001b[0m\n\u001b[1;32m     17\u001b[0m         \u001b[0;32melse\u001b[0m\u001b[0;34m:\u001b[0m\u001b[0;34m\u001b[0m\u001b[0;34m\u001b[0m\u001b[0m\n\u001b[0;32m---> 18\u001b[0;31m             \u001b[0;32mraise\u001b[0m \u001b[0mStopIteration\u001b[0m\u001b[0;34m\u001b[0m\u001b[0;34m\u001b[0m\u001b[0m\n\u001b[0m\u001b[1;32m     19\u001b[0m \u001b[0;34m\u001b[0m\u001b[0m\n\u001b[1;32m     20\u001b[0m \u001b[0;34m\u001b[0m\u001b[0m\n",
      "\u001b[0;31mStopIteration\u001b[0m: "
     ]
    }
   ],
   "source": [
    "class PowTwo:\n",
    "    \"\"\"Class to implement an iterator\n",
    "    of powers of two\"\"\"\n",
    "\n",
    "    def __init__(self, max=0):\n",
    "        self.max = max\n",
    "\n",
    "    def __iter__(self):\n",
    "        self.n = 0\n",
    "        return self\n",
    "\n",
    "    def __next__(self):\n",
    "        if self.n <= self.max:\n",
    "            result = 2 ** self.n\n",
    "            self.n += 1\n",
    "            return result\n",
    "        else:\n",
    "            raise StopIteration\n",
    "\n",
    "\n",
    "# create an object\n",
    "numbers = PowTwo(3)\n",
    "\n",
    "# create an iterable from the object\n",
    "i = iter(numbers)\n",
    "\n",
    "# Using next to get to the next iterator element\n",
    "print(next(i))\n",
    "print(next(i))\n",
    "print(next(i))\n",
    "print(next(i))\n",
    "print(next(i))"
   ]
  },
  {
   "cell_type": "code",
   "execution_count": 12,
   "metadata": {
    "ExecuteTime": {
     "end_time": "2021-03-02T17:01:42.796567Z",
     "start_time": "2021-03-02T17:01:42.793666Z"
    }
   },
   "outputs": [
    {
     "name": "stdout",
     "output_type": "stream",
     "text": [
      "1\n",
      "2\n",
      "4\n",
      "8\n",
      "16\n",
      "32\n"
     ]
    }
   ],
   "source": [
    "# calling out iterator\n",
    "for i in PowTwo(5):\n",
    "    print(i)"
   ]
  },
  {
   "cell_type": "markdown",
   "metadata": {},
   "source": [
    "## Generators\n",
    "In interator, We have to implement a class with __iter__() and __next__() method, keep track of internal states, and raise StopIteration when there are no values to be returned.Python generators are a simple way of creating iterators.\n",
    "\n",
    "If a function contains at least one yield statement (it may contain other yield or return statements), it becomes a generator function.. Both yield and return will return some value from a function. The difference is that while a return statement terminates a function entirely, yield statement pauses the function saving all its states and later continues from there on successive calls.\n",
    "\n",
    "Difference between generator function and iterator  -\n",
    "- Generator function contains one or more yield statements.\n",
    "- Once the function yields, the function is paused and the control is transferred to the caller.\n"
   ]
  },
  {
   "cell_type": "code",
   "execution_count": 13,
   "metadata": {
    "ExecuteTime": {
     "end_time": "2021-03-02T17:33:40.586996Z",
     "start_time": "2021-03-02T17:33:40.583415Z"
    }
   },
   "outputs": [
    {
     "name": "stdout",
     "output_type": "stream",
     "text": [
      "o\n",
      "l\n",
      "l\n",
      "e\n",
      "h\n"
     ]
    }
   ],
   "source": [
    "#generator that reverses a string\n",
    "def rev_str(my_str):\n",
    "    length = len(my_str)\n",
    "    for i in range(length - 1, -1, -1):\n",
    "        yield my_str[i]\n",
    "\n",
    "\n",
    "# For loop to reverse the string\n",
    "for char in rev_str(\"hello\"):\n",
    "    print(char)"
   ]
  },
  {
   "cell_type": "code",
   "execution_count": 17,
   "metadata": {
    "ExecuteTime": {
     "end_time": "2021-03-02T17:35:27.732325Z",
     "start_time": "2021-03-02T17:35:27.728709Z"
    }
   },
   "outputs": [
    {
     "name": "stdout",
     "output_type": "stream",
     "text": [
      "1\n",
      "2\n",
      "4\n",
      "8\n"
     ]
    }
   ],
   "source": [
    "def PowTwoGen(max=0):\n",
    "    n = 0\n",
    "    while n < max:\n",
    "        yield 2 ** n\n",
    "        n += 1\n",
    "for i in PowTwoGen(4):\n",
    "    print(i)"
   ]
  },
  {
   "cell_type": "markdown",
   "metadata": {},
   "source": [
    "## Closure\n",
    "\n",
    "The technique by which some data (\"Hello\" in this case) gets attached to the code is called closure in Python.\n"
   ]
  },
  {
   "cell_type": "code",
   "execution_count": null,
   "metadata": {},
   "outputs": [],
   "source": [
    "def print_msg(msg):\n",
    "    # This is the outer enclosing function\n",
    "\n",
    "    def printer():\n",
    "        # This is the nested function\n",
    "        print(msg)\n",
    "\n",
    "    return printer  # returns the nested function\n",
    "\n",
    "\n",
    "# Now let's try calling this function.\n",
    "# Output: Hello\n",
    "another = print_msg(\"Hello\")\n",
    "another()"
   ]
  },
  {
   "cell_type": "markdown",
   "metadata": {},
   "source": [
    "## Decorators\n",
    "Functions and methods are called as callable. in fact any object which implements __call__() method is termed as callable.\n",
    "Decorator is a function which takes another fucntion as argument and returns the function. Using decorators we can change the logic in wrapper function without making any changes to main function."
   ]
  },
  {
   "cell_type": "code",
   "execution_count": 3,
   "metadata": {
    "ExecuteTime": {
     "end_time": "2021-03-04T09:31:45.196764Z",
     "start_time": "2021-03-04T09:31:45.193486Z"
    }
   },
   "outputs": [
    {
     "name": "stdout",
     "output_type": "stream",
     "text": [
      "I got decorated\n",
      "I am ordinary\n"
     ]
    }
   ],
   "source": [
    "def make_pretty(func):\n",
    "    def inner():\n",
    "        print(\"I got decorated 1\")\n",
    "        func()\n",
    "    return inner\n",
    "\n",
    "\n",
    "def ordinary():\n",
    "    print(\"I am ordinary 1\")\n",
    "    \n",
    "ordinary = make_pretty(ordinary)\n",
    "ordinary()"
   ]
  },
  {
   "cell_type": "code",
   "execution_count": 5,
   "metadata": {
    "ExecuteTime": {
     "end_time": "2021-03-04T09:32:28.282217Z",
     "start_time": "2021-03-04T09:32:28.278015Z"
    }
   },
   "outputs": [
    {
     "name": "stdout",
     "output_type": "stream",
     "text": [
      "I got decorated 2\n",
      "I am ordinary 2\n"
     ]
    }
   ],
   "source": [
    "def make_pretty(func):\n",
    "    def inner():\n",
    "        print(\"I got decorated 2\")\n",
    "        func()\n",
    "    return inner\n",
    "\n",
    "@make_pretty\n",
    "def ordinary():\n",
    "    print(\"I am ordinary 2\")\n",
    "    \n",
    "ordinary()           #equivalent to ordinary = make_pretty(ordinary)"
   ]
  },
  {
   "cell_type": "code",
   "execution_count": 10,
   "metadata": {
    "ExecuteTime": {
     "end_time": "2021-03-04T09:43:52.719880Z",
     "start_time": "2021-03-04T09:43:52.715766Z"
    }
   },
   "outputs": [
    {
     "name": "stdout",
     "output_type": "stream",
     "text": [
      "I am going to divide 10 and 0\n",
      "Whoops! cannot divide\n"
     ]
    }
   ],
   "source": [
    "def smart_divide(func):\n",
    "    def inner(a, b):\n",
    "        print(\"I am going to divide\", a, \"and\", b)\n",
    "        if b == 0:\n",
    "            print(\"Whoops! cannot divide\")\n",
    "            return\n",
    "\n",
    "        return func(a, b)\n",
    "    return inner\n",
    "\n",
    "\n",
    "@smart_divide\n",
    "def divide(a, b):\n",
    "    print(a/b)\n",
    "divide(10,0)"
   ]
  },
  {
   "cell_type": "code",
   "execution_count": 35,
   "metadata": {
    "ExecuteTime": {
     "end_time": "2021-03-04T10:12:53.320013Z",
     "start_time": "2021-03-04T10:12:53.311721Z"
    }
   },
   "outputs": [
    {
     "name": "stdout",
     "output_type": "stream",
     "text": [
      "I can decorate any function\n",
      "1 2 3\n"
     ]
    }
   ],
   "source": [
    "def works_for_all(func):\n",
    "    def inner(*args, **kwargs):\n",
    "        print(\"I can decorate any function\")\n",
    "        return func(*args, **kwargs)\n",
    "    return inner\n",
    "\n",
    "@works_for_all\n",
    "def divide(a, b):\n",
    "    print(a/b)\n",
    "\n",
    "# divide(1,2)\n",
    "@works_for_all\n",
    "def hello(a, b, c):\n",
    "    print(a,b,c)\n",
    "\n",
    "# print(hello.__name__)\n",
    "\n",
    "hello(1,2,3)"
   ]
  },
  {
   "cell_type": "code",
   "execution_count": null,
   "metadata": {},
   "outputs": [],
   "source": []
  }
 ],
 "metadata": {
  "kernelspec": {
   "display_name": "Python 3",
   "language": "python",
   "name": "python3"
  },
  "language_info": {
   "codemirror_mode": {
    "name": "ipython",
    "version": 3
   },
   "file_extension": ".py",
   "mimetype": "text/x-python",
   "name": "python",
   "nbconvert_exporter": "python",
   "pygments_lexer": "ipython3",
   "version": "3.7.7"
  },
  "toc": {
   "base_numbering": 1,
   "nav_menu": {},
   "number_sections": true,
   "sideBar": true,
   "skip_h1_title": false,
   "title_cell": "Table of Contents",
   "title_sidebar": "Contents",
   "toc_cell": false,
   "toc_position": {},
   "toc_section_display": true,
   "toc_window_display": false
  },
  "varInspector": {
   "cols": {
    "lenName": 16,
    "lenType": 16,
    "lenVar": 40
   },
   "kernels_config": {
    "python": {
     "delete_cmd_postfix": "",
     "delete_cmd_prefix": "del ",
     "library": "var_list.py",
     "varRefreshCmd": "print(var_dic_list())"
    },
    "r": {
     "delete_cmd_postfix": ") ",
     "delete_cmd_prefix": "rm(",
     "library": "var_list.r",
     "varRefreshCmd": "cat(var_dic_list()) "
    }
   },
   "types_to_exclude": [
    "module",
    "function",
    "builtin_function_or_method",
    "instance",
    "_Feature"
   ],
   "window_display": false
  }
 },
 "nbformat": 4,
 "nbformat_minor": 4
}
